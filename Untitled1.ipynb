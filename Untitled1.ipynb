{
 "cells": [
  {
   "cell_type": "code",
   "execution_count": 1,
   "metadata": {},
   "outputs": [
    {
     "name": "stdout",
     "output_type": "stream",
     "text": [
      "city\n"
     ]
    }
   ],
   "source": [
    "city= \"FSD\"\n",
    "print(\"city\")\n"
   ]
  },
  {
   "cell_type": "code",
   "execution_count": 4,
   "metadata": {},
   "outputs": [
    {
     "name": "stdout",
     "output_type": "stream",
     "text": [
      "90\n"
     ]
    }
   ],
   "source": [
    "num1 = 5\n",
    "num2 = 10\n",
    "num3 = (num1 + num2) * 6\n",
    "\n",
    "print(num3)"
   ]
  },
  {
   "cell_type": "code",
   "execution_count": 10,
   "metadata": {},
   "outputs": [
    {
     "name": "stdout",
     "output_type": "stream",
     "text": [
      "Enter numberfsd\n",
      "hellofsd\n"
     ]
    }
   ],
   "source": [
    "name = input(\"Enter number\")\n",
    "\n",
    "print(\"hello\" + name)\n"
   ]
  },
  {
   "cell_type": "code",
   "execution_count": 19,
   "metadata": {},
   "outputs": [
    {
     "name": "stdout",
     "output_type": "stream",
     "text": [
      "Enter number7899\n",
      "Enter number1234\n",
      "9133\n"
     ]
    }
   ],
   "source": [
    "num1 = int(input(\"Enter number\"))\n",
    "\n",
    "num2 =int(input(\"Enter number\"))\n",
    "\n",
    "num3 = num1+num2\n",
    "\n",
    "print(num3)"
   ]
  },
  {
   "cell_type": "code",
   "execution_count": 48,
   "metadata": {},
   "outputs": [
    {
     "name": "stdout",
     "output_type": "stream",
     "text": [
      "Shabila Gulzar\n"
     ]
    }
   ],
   "source": [
    "name= \"Shabila\" \n",
    "\n",
    "name2= \" Gulzar\"\n",
    "\n",
    "A= name + name2\n",
    "\n",
    "print(A)\n",
    "\n"
   ]
  },
  {
   "cell_type": "code",
   "execution_count": 43,
   "metadata": {},
   "outputs": [
    {
     "name": "stdout",
     "output_type": "stream",
     "text": [
      "160\n"
     ]
    }
   ],
   "source": [
    "def sum(n1, n2, n3):\n",
    "    \n",
    "    total = n1 + n2 + n3\n",
    "    \n",
    "    return total\n",
    "\n",
    "my_total = sum(70,20,70)\n",
    "    \n",
    "print(my_total)"
   ]
  },
  {
   "cell_type": "code",
   "execution_count": 44,
   "metadata": {},
   "outputs": [
    {
     "name": "stdout",
     "output_type": "stream",
     "text": [
      "222\n"
     ]
    }
   ],
   "source": [
    "def sub(num1, num2):\n",
    "    \n",
    "    Total = num1-num2\n",
    "    \n",
    "    return Total\n",
    "\n",
    "My_Total = sub(456,234)\n",
    "\n",
    "print(My_Total)\n",
    "    "
   ]
  },
  {
   "cell_type": "code",
   "execution_count": 50,
   "metadata": {},
   "outputs": [
    {
     "name": "stdout",
     "output_type": "stream",
     "text": [
      "Enter num45\n",
      "Enter num56\n",
      "Enter num67\n",
      "168\n"
     ]
    }
   ],
   "source": [
    "n1= int(input(\"Enter num\"))\n",
    "\n",
    "n2= int(input(\"Enter num\"))\n",
    "\n",
    "n3= int(input(\"Enter num\"))\n",
    "\n",
    "v=sum(n1,n2,n3)\n",
    "print(v)"
   ]
  },
  {
   "cell_type": "code",
   "execution_count": 55,
   "metadata": {},
   "outputs": [
    {
     "name": "stdout",
     "output_type": "stream",
     "text": [
      "hello shabila\n",
      "hello shabila\n",
      "hello shabila\n"
     ]
    }
   ],
   "source": [
    "def some(name):\n",
    "    print(\"hello\"+name)\n",
    "    return \"hello\" + name\n",
    "res = some(\" shabila\")\n",
    "print(res)\n",
    "print(res)"
   ]
  },
  {
   "cell_type": "code",
   "execution_count": 56,
   "metadata": {},
   "outputs": [
    {
     "name": "stdout",
     "output_type": "stream",
     "text": [
      "03213551490 waqas\n"
     ]
    }
   ],
   "source": [
    "def getMyFunction(a, b):\n",
    "    return \"03213551490 waqas\"\n",
    "c= getMyFunction(20, 20)\n",
    "print(c)"
   ]
  },
  {
   "cell_type": "code",
   "execution_count": 63,
   "metadata": {},
   "outputs": [
    {
     "name": "stdout",
     "output_type": "stream",
     "text": [
      "60\n"
     ]
    }
   ],
   "source": [
    "def test():\n",
    "    return 60\n",
    "def getData():\n",
    "    return test()\n",
    "tf = getData()\n",
    "print( tf )"
   ]
  },
  {
   "cell_type": "code",
   "execution_count": 68,
   "metadata": {},
   "outputs": [
    {
     "name": "stdout",
     "output_type": "stream",
     "text": [
      "92\n"
     ]
    }
   ],
   "source": [
    "def getData(n1,n2):\n",
    "    c= n1+n2\n",
    "    return c\n",
    "tf = getData(90,2)\n",
    "print(tf)"
   ]
  },
  {
   "cell_type": "code",
   "execution_count": 70,
   "metadata": {},
   "outputs": [
    {
     "name": "stdout",
     "output_type": "stream",
     "text": [
      "yes\n"
     ]
    }
   ],
   "source": [
    "num=120\n",
    "if num > 100:\n",
    "    print(\"yes\")\n",
    "else:\n",
    "    print(\"no\")"
   ]
  },
  {
   "cell_type": "code",
   "execution_count": 3,
   "metadata": {},
   "outputs": [
    {
     "name": "stdout",
     "output_type": "stream",
     "text": [
      "even\n"
     ]
    }
   ],
   "source": [
    "num=24\n",
    "if num%2==0:\n",
    "    print(\"even\")\n",
    "else:\n",
    "    print(\"odd\")"
   ]
  },
  {
   "cell_type": "code",
   "execution_count": 25,
   "metadata": {},
   "outputs": [
    {
     "name": "stdout",
     "output_type": "stream",
     "text": [
      "24 is not a prime number\n"
     ]
    }
   ],
   "source": [
    "num=24\n",
    "\n",
    "if num>1:\n",
    "    for i in range (2,num//2):\n",
    "        if (num % i)==0:\n",
    "            print(num,\"is not a prime number\")\n",
    "            break\n",
    "        else:\n",
    "            print(num, \"is a prime number\")\n",
    "else:\n",
    "            print(num, \"is not a prime number\")\n",
    "        \n",
    "        "
   ]
  },
  {
   "cell_type": "code",
   "execution_count": null,
   "metadata": {},
   "outputs": [],
   "source": []
  }
 ],
 "metadata": {
  "kernelspec": {
   "display_name": "Python 3",
   "language": "python",
   "name": "python3"
  },
  "language_info": {
   "codemirror_mode": {
    "name": "ipython",
    "version": 3
   },
   "file_extension": ".py",
   "mimetype": "text/x-python",
   "name": "python",
   "nbconvert_exporter": "python",
   "pygments_lexer": "ipython3",
   "version": "3.7.4"
  }
 },
 "nbformat": 4,
 "nbformat_minor": 2
}
